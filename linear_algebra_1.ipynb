{
 "cells": [
  {
   "cell_type": "markdown",
   "metadata": {},
   "source": [
    "# Matrices\n",
    "\n",
    "A matrix is a rectangular array of numbers\n",
    "\\begin{bmatrix}\n",
    "1 & 2 & 3 \\\\\n",
    "2 & 3 & 4\n",
    "\\end{bmatrix}\n",
    "\n",
    "or generally.\n",
    "\n",
    "\\begin{bmatrix}\n",
    "a_{11} & a_{12} & \\cdots & a_{1n} \\\\\n",
    "a_{21} & a_{22} & \\cdots & a_{2n}\\\\\n",
    "\\vdots & \\vdots & \\ddots & \\vdots \\\\\n",
    "a_{m1} & a_{m2} & \\cdots & a_{mn} \\\\\n",
    "\\end{bmatrix}\n",
    "\n",
    "is a matrix with dimensions $m \\times n$ ($m$ by $n$) where $m$ is the number of rows and $n$ is the number of columns. \n",
    "If $m$ = $n$, it's called a square matrix.\n",
    "If $m$ = 1, it's called a column vector.\n",
    "\\begin{bmatrix}\n",
    "a_{11} \\\\\n",
    "a_{21} \\\\\n",
    "\\vdots \\\\\n",
    "a_{m1}\n",
    "\\end{bmatrix}\n",
    "\n",
    "If $n$ = 1, it's called a row vector.\n",
    "\n",
    "\\begin{bmatrix}\n",
    "a_{11} & a_{12} & a_{13} & \\cdots & a_{1n} \\\\\n",
    "\\end{bmatrix}\n",
    "\n",
    "A system of linear equations can be represented as:\n",
    "\\begin{equation}\n",
    "a_{11}x_{11} + a_{12}x_{12} + \\cdots + a_{1m}x_{1m} = b_1, \\\\\n",
    "a_{21}x_{21} + a_{22}x_{22} + \\cdots + a_{2m}x_{2m} = b_2, \\\\\n",
    "\\vdots \\\\\n",
    "a_{n1}x_{n1} + a_{n2}x_{n2} + \\cdots + a_{nm}x_{nm} = b_n\n",
    "\\end{equation}"
   ]
  },
  {
   "cell_type": "markdown",
   "metadata": {},
   "source": [
    "## Matrix arithmetics\n",
    "\n",
    "- Matrix addition: $A$, $B$ and $C$ are three $m$\\times$n$ matrices. $C=A+B$ where $c_{ij} = a_{ij} + b_{ij}$. Properties:\n",
    " - Commutative: $A+B=B+A$\n",
    " - Associative: $(A+B)+C=A+(B+C)$\n",
    "- Scalar multiplication: Multiply a scalar number with each elements of the matrix. $B=cA$ where $b_{ij} = c \\times a_{ij}$\n",
    "- Matrix multiplication: Multiple a matrix with another matrix. $A$ is $m \\times n$ and $B$ is $n \\times p$. $C=AB$ of dimension $m \\times n$ where\n",
    "\\begin{equation}\n",
    "c_{ij} = \\sum_{k=0}^{n} a_{ik}b_{kj}\n",
    "\\end{equation}\n",
    " - Commutative: No, $AB \\ne BA$\n",
    " - Associative: $A(BC)=(AB)C$\n",
    " - Distributive: $A(B+C) = AB + AC$"
   ]
  },
  {
   "cell_type": "markdown",
   "metadata": {},
   "source": [
    "## Special Matrices\n",
    "\n",
    "### Zero matrix\n",
    "All elements of this matrix is zero.\n",
    "\\begin{bmatrix}\n",
    "0 & 0 & \\cdots & 0 \\\\\n",
    "0 & 0 & \\cdots & 0 \\\\\n",
    "\\vdots & \\vdots & \\ddots & \\vdots \\\\\n",
    "0 & 0 & \\cdots & 0 \\\\\n",
    "\\end{bmatrix}\n",
    "\n",
    "### Identity Matrix\n",
    "Square matrix ($m=n$) where all diagonal elements are one given by $a_{ii} = 1$\n",
    "\\begin{bmatrix}\n",
    "1 & 0 & \\cdots & 0 \\\\\n",
    "0 & 1 & \\cdots & 0 \\\\\n",
    "\\vdots & \\vdots & \\ddots & \\vdots \\\\\n",
    "0 & 0 & \\cdots & 1 \\\\\n",
    "\\end{bmatrix}\n"
   ]
  },
  {
   "cell_type": "markdown",
   "metadata": {},
   "source": [
    "# Matrix arithmetics\n",
    "## Addition"
   ]
  },
  {
   "cell_type": "code",
   "execution_count": 1,
   "metadata": {},
   "outputs": [],
   "source": [
    "import sys\n",
    "import os\n",
    "\n",
    "from IPython.display import display, Markdown, Latex\n",
    "\n",
    "sys.path.append(os.getcwd())\n",
    "from matrix.core import Matrix2D, IdentityMatrix2D, ZeroMatrix2D"
   ]
  },
  {
   "cell_type": "code",
   "execution_count": 2,
   "metadata": {},
   "outputs": [],
   "source": [
    "import random\n",
    "\n",
    "\n",
    "def generate_matrix_data(cols, rows):\n",
    "    data = []\n",
    "    for r in range(rows):\n",
    "        current_row = []\n",
    "        for c in range(cols):\n",
    "            current_row.append(random.randint(0, 99))\n",
    "        data.append(current_row)\n",
    "    return data"
   ]
  },
  {
   "cell_type": "code",
   "execution_count": 3,
   "metadata": {},
   "outputs": [
    {
     "data": {
      "text/markdown": [
       "#### Commutative property"
      ],
      "text/plain": [
       "<IPython.core.display.Markdown object>"
      ]
     },
     "metadata": {},
     "output_type": "display_data"
    },
    {
     "data": {
      "text/markdown": [
       "$A + B = B + A$"
      ],
      "text/plain": [
       "<IPython.core.display.Markdown object>"
      ]
     },
     "metadata": {},
     "output_type": "display_data"
    },
    {
     "data": {
      "text/latex": [
       "\\begin{bmatrix} \n",
       " 67 & 66 \\\\ 120 & 31 \\\\ \n",
       "\\end{bmatrix}"
      ],
      "text/plain": [
       "<IPython.core.display.Latex object>"
      ]
     },
     "metadata": {},
     "output_type": "display_data"
    },
    {
     "data": {
      "text/latex": [
       "\\begin{bmatrix} \n",
       " 67 & 66 \\\\ 120 & 31 \\\\ \n",
       "\\end{bmatrix}"
      ],
      "text/plain": [
       "<IPython.core.display.Latex object>"
      ]
     },
     "metadata": {},
     "output_type": "display_data"
    }
   ],
   "source": [
    "from IPython.display import display, Markdown, Latex\n",
    "\n",
    "display(Markdown('#### Commutative property'))\n",
    "display(Markdown('$A + B = B + A$'))\n",
    "A = Matrix2D(generate_matrix_data(2, 2))\n",
    "B = Matrix2D(generate_matrix_data(2, 2))\n",
    "\n",
    "display((A + B).latex(), (B+A).latex())"
   ]
  },
  {
   "cell_type": "code",
   "execution_count": 4,
   "metadata": {},
   "outputs": [
    {
     "data": {
      "text/markdown": [
       "### Associative Property"
      ],
      "text/plain": [
       "<IPython.core.display.Markdown object>"
      ]
     },
     "metadata": {},
     "output_type": "display_data"
    },
    {
     "data": {
      "text/latex": [
       "$C$"
      ],
      "text/plain": [
       "<IPython.core.display.Latex object>"
      ]
     },
     "metadata": {},
     "output_type": "display_data"
    },
    {
     "data": {
      "text/latex": [
       "\\begin{bmatrix} \n",
       " 62 & 58 \\\\ 49 & 31 \\\\ \n",
       "\\end{bmatrix}"
      ],
      "text/plain": [
       "<IPython.core.display.Latex object>"
      ]
     },
     "metadata": {},
     "output_type": "display_data"
    },
    {
     "data": {
      "text/latex": [
       "$A+(B+C)$"
      ],
      "text/plain": [
       "<IPython.core.display.Latex object>"
      ]
     },
     "metadata": {},
     "output_type": "display_data"
    },
    {
     "data": {
      "text/latex": [
       "\\begin{bmatrix} \n",
       " 129 & 124 \\\\ 169 & 62 \\\\ \n",
       "\\end{bmatrix}"
      ],
      "text/plain": [
       "<IPython.core.display.Latex object>"
      ]
     },
     "metadata": {},
     "output_type": "display_data"
    },
    {
     "data": {
      "text/latex": [
       "$(A+B)+C$"
      ],
      "text/plain": [
       "<IPython.core.display.Latex object>"
      ]
     },
     "metadata": {},
     "output_type": "display_data"
    },
    {
     "data": {
      "text/latex": [
       "\\begin{bmatrix} \n",
       " 129 & 124 \\\\ 169 & 62 \\\\ \n",
       "\\end{bmatrix}"
      ],
      "text/plain": [
       "<IPython.core.display.Latex object>"
      ]
     },
     "metadata": {},
     "output_type": "display_data"
    }
   ],
   "source": [
    "display(Markdown('### Associative Property'))\n",
    "C = Matrix2D(generate_matrix_data(2, 2))\n",
    "display(Latex('$C$'), C.latex(), Latex('$A+(B+C)$'), (A + (B + C)).latex(), Latex('$(A+B)+C$'), ((A + B) + C).latex())"
   ]
  },
  {
   "cell_type": "code",
   "execution_count": 5,
   "metadata": {},
   "outputs": [
    {
     "data": {
      "text/markdown": [
       "## Scalar Multiplication"
      ],
      "text/plain": [
       "<IPython.core.display.Markdown object>"
      ]
     },
     "metadata": {},
     "output_type": "display_data"
    },
    {
     "data": {
      "text/latex": [
       "$C*2$"
      ],
      "text/plain": [
       "<IPython.core.display.Latex object>"
      ]
     },
     "metadata": {},
     "output_type": "display_data"
    },
    {
     "data": {
      "text/latex": [
       "\\begin{bmatrix} \n",
       " 124 & 116 \\\\ 98 & 62 \\\\ \n",
       "\\end{bmatrix}"
      ],
      "text/plain": [
       "<IPython.core.display.Latex object>"
      ]
     },
     "metadata": {},
     "output_type": "display_data"
    }
   ],
   "source": [
    "display(Markdown('## Scalar Multiplication'))\n",
    "c = 2\n",
    "display(Latex('$C*2$'), (C*2).latex())"
   ]
  },
  {
   "cell_type": "code",
   "execution_count": 6,
   "metadata": {},
   "outputs": [
    {
     "data": {
      "text/markdown": [
       "## Matrix multiplication"
      ],
      "text/plain": [
       "<IPython.core.display.Markdown object>"
      ]
     },
     "metadata": {},
     "output_type": "display_data"
    },
    {
     "data": {
      "text/markdown": [
       "### Commutative property"
      ],
      "text/plain": [
       "<IPython.core.display.Markdown object>"
      ]
     },
     "metadata": {},
     "output_type": "display_data"
    },
    {
     "data": {
      "text/latex": [
       "$A*B$"
      ],
      "text/plain": [
       "<IPython.core.display.Latex object>"
      ]
     },
     "metadata": {},
     "output_type": "display_data"
    },
    {
     "data": {
      "text/latex": [
       "\\begin{bmatrix} \n",
       " 1630 & 1722 \\\\ 1442 & 1668 \\\\ \n",
       "\\end{bmatrix}"
      ],
      "text/plain": [
       "<IPython.core.display.Latex object>"
      ]
     },
     "metadata": {},
     "output_type": "display_data"
    },
    {
     "data": {
      "text/latex": [
       "$B*A$"
      ],
      "text/plain": [
       "<IPython.core.display.Latex object>"
      ]
     },
     "metadata": {},
     "output_type": "display_data"
    },
    {
     "data": {
      "text/latex": [
       "\\begin{bmatrix} \n",
       " 2626 & 486 \\\\ 3146 & 672 \\\\ \n",
       "\\end{bmatrix}"
      ],
      "text/plain": [
       "<IPython.core.display.Latex object>"
      ]
     },
     "metadata": {},
     "output_type": "display_data"
    }
   ],
   "source": [
    "display(Markdown('## Matrix multiplication'))\n",
    "display(Markdown('### Commutative property'))\n",
    "display(Latex('$A*B$'), A.cross(B).latex(), Latex('$B*A$'), B.cross(A).latex())"
   ]
  },
  {
   "cell_type": "code",
   "execution_count": 7,
   "metadata": {},
   "outputs": [
    {
     "data": {
      "text/markdown": [
       "## Zero Matrix"
      ],
      "text/plain": [
       "<IPython.core.display.Markdown object>"
      ]
     },
     "metadata": {},
     "output_type": "display_data"
    },
    {
     "data": {
      "text/latex": [
       "\\begin{bmatrix} \n",
       " 0 & 0 & 0 \\\\ 0 & 0 & 0 \\\\ 0 & 0 & 0 \\\\ \n",
       "\\end{bmatrix}"
      ],
      "text/plain": [
       "<IPython.core.display.Latex object>"
      ]
     },
     "metadata": {},
     "output_type": "display_data"
    }
   ],
   "source": [
    "display(Markdown('## Zero Matrix'))\n",
    "Z = ZeroMatrix2D(shape=(3, 3))\n",
    "display(Z.latex())"
   ]
  },
  {
   "cell_type": "code",
   "execution_count": 8,
   "metadata": {},
   "outputs": [
    {
     "data": {
      "text/markdown": [
       "## Identity Matrix"
      ],
      "text/plain": [
       "<IPython.core.display.Markdown object>"
      ]
     },
     "metadata": {},
     "output_type": "display_data"
    },
    {
     "data": {
      "text/latex": [
       "\\begin{bmatrix} \n",
       " 1 & 0 & 0 \\\\ 0 & 1 & 0 \\\\ 0 & 0 & 1 \\\\ \n",
       "\\end{bmatrix}"
      ],
      "text/plain": [
       "<IPython.core.display.Latex object>"
      ]
     },
     "metadata": {},
     "output_type": "display_data"
    }
   ],
   "source": [
    "display(Markdown('## Identity Matrix'))\n",
    "I = IdentityMatrix2D(shape=3)\n",
    "display(I.latex())"
   ]
  }
 ],
 "metadata": {
  "kernelspec": {
   "display_name": "Python 3",
   "language": "python",
   "name": "python3"
  },
  "language_info": {
   "codemirror_mode": {
    "name": "ipython",
    "version": 3
   },
   "file_extension": ".py",
   "mimetype": "text/x-python",
   "name": "python",
   "nbconvert_exporter": "python",
   "pygments_lexer": "ipython3",
   "version": "3.8.3"
  }
 },
 "nbformat": 4,
 "nbformat_minor": 4
}
