{
 "cells": [
  {
   "cell_type": "markdown",
   "metadata": {},
   "source": [
    "### Annotations\n",
    "$s_x$ - standard deviation of the sample\n",
    "\n",
    "$\\sigma$ - standard deviation of the population\n",
    "\n",
    "$n$ - size of the sample\n",
    "\n",
    "$N$ - size of the population\n",
    "\n",
    "$\\bar{x}$ - mean of the sample\n",
    "\n",
    "$\\mu$ - mean of the population"
   ]
  },
  {
   "cell_type": "markdown",
   "metadata": {},
   "source": [
    "## Proving the equation for a sample is the following using a simple simulation\n",
    "\n",
    "\\begin{equation}\n",
    "s_x = \\sqrt{\\frac{\\sum_{n=1}^{n} (x_i-\\bar{x})}{n-1}}\n",
    "\\end{equation}\n",
    "\n",
    "where $s_x$ is the standard deviation of the sample and $\\bar{x}$ is the mean of the sample.\n",
    "\n",
    "The standard deviation of the population of size $N$ is:\n",
    "\n",
    "\\begin{equation}\n",
    "\\sigma = \\sqrt{\\frac{\\sum_{N=1}^{N} (x_i-\\mu)}{N}}\n",
    "\\end{equation}"
   ]
  },
  {
   "cell_type": "code",
   "execution_count": 30,
   "metadata": {},
   "outputs": [],
   "source": [
    "import numpy as np\n",
    "import matplotlib.pyplot as plt"
   ]
  },
  {
   "cell_type": "markdown",
   "metadata": {},
   "source": [
    "### Population\n",
    "First let's make a population, a normal distribution with $\\mu = 10$, $\\sigma = 2$ and $N = 1000$. We'll be getting the approximate values using numpy."
   ]
  },
  {
   "cell_type": "code",
   "execution_count": 31,
   "metadata": {},
   "outputs": [
    {
     "name": "stdout",
     "output_type": "stream",
     "text": [
      "Mean of the population:  10.007736017167982\n",
      "Standard deviation of the population:  2.014524119610725\n"
     ]
    }
   ],
   "source": [
    "population = np.random.normal(loc=10, scale=2, size=1000)\n",
    "\n",
    "print('Mean of the population: ', population.mean())\n",
    "print('Standard deviation of the population: ', population.std())"
   ]
  },
  {
   "cell_type": "markdown",
   "metadata": {},
   "source": [
    "### Standard deviation functions\n",
    "Coming up are three different equations for the standard deviation of a sample with size $n$.\n",
    "\n",
    "1. Equation corresponding to function **_std_n_**:\n",
    "\\begin{equation}\n",
    "s_x = \\sqrt{\\frac{\\sum_{n=1}^{n} (x_i-\\bar{x})}{n}}\n",
    "\\end{equation}\n",
    "\n",
    "2. Equation corresponding to function **_std_n_1_**:\n",
    "\\begin{equation}\n",
    "s_x = \\sqrt{\\frac{\\sum_{n=1}^{n} (x_i-\\bar{x})}{n-1}}\n",
    "\\end{equation}\n",
    "\n",
    "3. Equation corresponding to function **_std_n_2_**:\n",
    "\\begin{equation}\n",
    "s_x = \\sqrt{\\frac{\\sum_{n=1}^{n} (x_i-\\bar{x})}{n-2}}\n",
    "\\end{equation}"
   ]
  },
  {
   "cell_type": "code",
   "execution_count": 32,
   "metadata": {},
   "outputs": [],
   "source": [
    "def std_n(arr):\n",
    "    return np.sqrt(np.power((arr-arr.mean()), 2).sum()/len(arr))\n",
    "\n",
    "def std_n_1(arr):\n",
    "    return np.sqrt(np.power((arr-arr.mean()), 2).sum()/(len(arr)-1))\n",
    "\n",
    "def std_n_2(arr):\n",
    "    return np.sqrt(np.power((arr-arr.mean()), 2).sum()/(len(arr)-2))"
   ]
  },
  {
   "cell_type": "markdown",
   "metadata": {},
   "source": [
    "### Simulation\n",
    "In the next few cells, we are going to select a random sample size (**sample_size**) and number of samples (**number_samples**) to be drawn from the population. Compute the standard deviation and the plot the graph against the population standard deviation"
   ]
  },
  {
   "cell_type": "code",
   "execution_count": 33,
   "metadata": {},
   "outputs": [],
   "source": [
    "sample_size = 30\n",
    "number_samples = 500\n",
    "\n",
    "std_n_list = []\n",
    "std_n_1_list = []\n",
    "std_n_2_list = []\n",
    "\n",
    "for _ in range(number_samples):\n",
    "    sample = np.random.choice(population, size=sample_size)\n",
    "    std_n_list.append(std_n(sample))\n",
    "    std_n_1_list.append(std_n_1(sample))\n",
    "    std_n_2_list.append(std_n_2(sample))"
   ]
  },
  {
   "cell_type": "markdown",
   "metadata": {},
   "source": [
    "### Plotting\n",
    "It's pretty clear from the plot that the line that is associated to $n-1$ is more closer to the population mean."
   ]
  },
  {
   "cell_type": "code",
   "execution_count": 34,
   "metadata": {},
   "outputs": [
    {
     "data": {
      "text/plain": [
       "Text(0, 0.5, 'Mean of standard deviations')"
      ]
     },
     "execution_count": 34,
     "metadata": {},
     "output_type": "execute_result"
    },
    {
     "data": {
      "image/png": "[encoded data removed]",
      "text/plain": [
       "<Figure size 1080x576 with 1 Axes>"
      ]
     },
     "metadata": {
      "needs_background": "light"
     },
     "output_type": "display_data"
    }
   ],
   "source": [
    "data_n = np.cumsum(std_n_list)/np.cumsum(np.ones(len(std_n_list)))\n",
    "data_n_1 = np.cumsum(std_n_1_list)/np.cumsum(np.ones(len(std_n_1_list)))\n",
    "data_n_2 = np.cumsum(std_n_2_list)/np.cumsum(np.ones(len(std_n_2_list)))\n",
    "\n",
    "plt.figure(figsize=(15, 8))\n",
    "\n",
    "std_n_plot = plt.scatter([i for i in range(len(std_n_list))], data_n, s=2, color='r')\n",
    "std_n_1_plot = plt.scatter([i for i in range(len(std_n_1_list))], data_n_1, s=2, color='b')\n",
    "std_n_2_plot = plt.scatter([i for i in range(len(std_n_2_list))], data_n_2, s=2, color='g')\n",
    "plt.plot((0, len(std_n_list)), (population.std(), population.std()))\n",
    "\n",
    "plt.legend((std_n_plot, std_n_1_plot, std_n_2_plot), ('n', 'n-1', 'n-2'))\n",
    "plt.xlabel('Number of samples')\n",
    "plt.ylabel('Mean of standard deviations')"
   ]
  }
 ],
 "metadata": {
  "kernelspec": {
   "display_name": "Python 3",
   "language": "python",
   "name": "python3"
  },
  "language_info": {
   "codemirror_mode": {
    "name": "ipython",
    "version": 3
   },
   "file_extension": ".py",
   "mimetype": "text/x-python",
   "name": "python",
   "nbconvert_exporter": "python",
   "pygments_lexer": "ipython3",
   "version": "3.8.3"
  }
 },
 "nbformat": 4,
 "nbformat_minor": 4
}
